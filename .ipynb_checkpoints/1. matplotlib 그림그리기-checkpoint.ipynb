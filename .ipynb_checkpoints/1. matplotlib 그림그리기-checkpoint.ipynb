{
 "cells": [
  {
   "cell_type": "markdown",
   "metadata": {},
   "source": [
    "### New paragraph\n",
    "this is *rich* **Text** with \n",
    "\n",
    "```python\n",
    "print(\"Hello world\")\n",
    "```\n",
    "\n",
    "and images :\n",
    "![image](http://jupyter.org/assets/main-logo.svg)\n",
    "\n",
    "**명령모드에서 단축키**\n",
    "- Enter : 편집모드로 전환\n",
    "- y/m : 코드셀 / 마크다운 셀로 셀 타입 변환\n",
    "- a/b: 현재 셀의 위 아래에 새 셀 추가\n",
    "- x/c/v : 현제 셀에 대한 cut/copy/paste\n",
    "- dd: 현재 셀 삭제\n",
    "- z : 마지막 삭제 연산 취소\n",
    "- h : 키보드 단축키 목록\n",
    "\n",
    "#### 판다스로 도표그리기 http://pandas.pydata.org/pandas-docs/stable/visualization.html \n",
    "\n",
    "data set\n",
    "git clone https://github.com/ipython-books/minibook-2nd-data\n"
   ]
  },
  {
   "cell_type": "code",
   "execution_count": 6,
   "metadata": {},
   "outputs": [
    {
     "name": "stdout",
     "output_type": "stream",
     "text": [
      "hello world\n"
     ]
    }
   ],
   "source": [
    "print(\"hello world\")"
   ]
  },
  {
   "cell_type": "code",
   "execution_count": 7,
   "metadata": {},
   "outputs": [
    {
     "data": {
      "text/plain": [
       "4"
      ]
     },
     "execution_count": 7,
     "metadata": {},
     "output_type": "execute_result"
    }
   ],
   "source": [
    "2*2"
   ]
  },
  {
   "cell_type": "code",
   "execution_count": 8,
   "metadata": {},
   "outputs": [],
   "source": [
    "items = [1,2,3,4,5]"
   ]
  },
  {
   "cell_type": "code",
   "execution_count": 9,
   "metadata": {},
   "outputs": [
    {
     "name": "stdout",
     "output_type": "stream",
     "text": [
      "1\n",
      "2\n",
      "3\n",
      "4\n",
      "5\n"
     ]
    }
   ],
   "source": [
    "for item in items:\n",
    "    print(item)"
   ]
  },
  {
   "cell_type": "code",
   "execution_count": 10,
   "metadata": {},
   "outputs": [],
   "source": [
    "def is_even(number):\n",
    "    return number%2 == 0"
   ]
  },
  {
   "cell_type": "code",
   "execution_count": 11,
   "metadata": {},
   "outputs": [
    {
     "data": {
      "text/plain": [
       "False"
      ]
     },
     "execution_count": 11,
     "metadata": {},
     "output_type": "execute_result"
    }
   ],
   "source": [
    "is_even(5)"
   ]
  },
  {
   "cell_type": "code",
   "execution_count": 12,
   "metadata": {},
   "outputs": [
    {
     "data": {
      "text/plain": [
       "True"
      ]
     },
     "execution_count": 12,
     "metadata": {},
     "output_type": "execute_result"
    }
   ],
   "source": [
    "is_even(6)"
   ]
  },
  {
   "cell_type": "code",
   "execution_count": 13,
   "metadata": {},
   "outputs": [],
   "source": [
    "import numpy as np\n",
    "import pandas as pd\n",
    "import matplotlib.pyplot as plt\n",
    "%matplotlib inline"
   ]
  },
  {
   "cell_type": "code",
   "execution_count": 14,
   "metadata": {},
   "outputs": [
    {
     "name": "stdout",
     "output_type": "stream",
     "text": [
      "[WinError 2] 지정된 파일을 찾을 수 없습니다: './Gitzone/'\n",
      "C:\\Users\\wine_CH\\Anaconda3_workspace\\Gitzone\n"
     ]
    }
   ],
   "source": [
    "%cd ./Gitzone/"
   ]
  },
  {
   "cell_type": "code",
   "execution_count": 15,
   "metadata": {},
   "outputs": [],
   "source": [
    "data_filename = 'data/nyc_data.csv'\n",
    "fare_filename = 'data/nyc_fare.csv'"
   ]
  },
  {
   "cell_type": "code",
   "execution_count": 16,
   "metadata": {},
   "outputs": [],
   "source": [
    "data = pd.read_csv(data_filename, parse_dates = ['pickup_datetime','dropoff_datetime'])"
   ]
  },
  {
   "cell_type": "code",
   "execution_count": 17,
   "metadata": {},
   "outputs": [],
   "source": [
    "fare = pd.read_csv(fare_filename, parse_dates = ['pickup_datetime'])"
   ]
  },
  {
   "cell_type": "code",
   "execution_count": 18,
   "metadata": {},
   "outputs": [
    {
     "data": {
      "text/plain": [
       "Index(['medallion', 'hack_license', 'vendor_id', 'rate_code',\n",
       "       'store_and_fwd_flag', 'pickup_datetime', 'dropoff_datetime',\n",
       "       'passenger_count', 'trip_time_in_secs', 'trip_distance',\n",
       "       'pickup_longitude', 'pickup_latitude', 'dropoff_longitude',\n",
       "       'dropoff_latitude'],\n",
       "      dtype='object')"
      ]
     },
     "execution_count": 18,
     "metadata": {},
     "output_type": "execute_result"
    }
   ],
   "source": [
    "data.columns"
   ]
  },
  {
   "cell_type": "code",
   "execution_count": 19,
   "metadata": {},
   "outputs": [],
   "source": [
    "p_lng = data.pickup_longitude\n",
    "p_lat = data.pickup_latitude\n",
    "d_lng = data.dropoff_longitude\n",
    "d_lat = data.dropoff_latitude"
   ]
  },
  {
   "cell_type": "code",
   "execution_count": 20,
   "metadata": {},
   "outputs": [],
   "source": [
    "def lat_lng_to_pixels(lat,lng):\n",
    "    lat_rad = lat*np.pi / 180.0\n",
    "    lat_rad = np.log(np.tan((lat_rad + np.pi / 2.0)/ 2.0))\n",
    "    x = 100 * (lng+180.0)/360.0\n",
    "    y = 100 * (lat_rad - np.pi) / (2.0 * np.pi)\n",
    "    return (x, y)"
   ]
  },
  {
   "cell_type": "code",
   "execution_count": 21,
   "metadata": {},
   "outputs": [],
   "source": [
    "px,py = lat_lng_to_pixels(p_lat,p_lng)"
   ]
  },
  {
   "cell_type": "code",
   "execution_count": 22,
   "metadata": {},
   "outputs": [
    {
     "data": {
      "text/plain": [
       "<matplotlib.collections.PathCollection at 0x1c394235c50>"
      ]
     },
     "execution_count": 22,
     "metadata": {},
     "output_type": "execute_result"
    },
    {
     "data": {
      "image/png": "[encoded data removed]",
      "text/plain": [
       "<Figure size 432x288 with 1 Axes>"
      ]
     },
     "metadata": {
      "needs_background": "light"
     },
     "output_type": "display_data"
    }
   ],
   "source": [
    "plt.scatter(px,py)"
   ]
  },
  {
   "cell_type": "code",
   "execution_count": 23,
   "metadata": {},
   "outputs": [
    {
     "data": {
      "text/plain": [
       "(29.4, 29.55, -37.63, -37.54)"
      ]
     },
     "execution_count": 23,
     "metadata": {},
     "output_type": "execute_result"
    },
    {
     "data": {
      "image/png": "[encoded data removed]",
      "text/plain": [
       "<Figure size 576x432 with 1 Axes>"
      ]
     },
     "metadata": {
      "needs_background": "light"
     },
     "output_type": "display_data"
    }
   ],
   "source": [
    "plt.figure(figsize=(8,6)) # figure 함수는 그림의 크기를 인치로 명시\n",
    "plt.scatter(px,py,s=.1,alpha=.03) # 산점도를 변경하는 다양한 키워드 아규먼트를 입력받음\n",
    "# s 로 마커크기 작게, 작은 alpha 불투명 값 : 이 점들은 거의 투명하게 하여, 고밀도를 강조할 수 있다\n",
    "plt.axis('equal') # 같은 가로, 세로비를 사용\n",
    "plt.xlim(29.40,29.55) #축 제한 명시\n",
    "plt.ylim(-37.63,-37.54)\n",
    "plt.axis('off') # 축 제거"
   ]
  },
  {
   "cell_type": "markdown",
   "metadata": {},
   "source": [
    "=== pandas and seaborn ==="
   ]
  },
  {
   "cell_type": "code",
   "execution_count": 22,
   "metadata": {},
   "outputs": [
    {
     "data": {
      "text/plain": [
       "(846945, 29.417137499999995, 29.71431305555556)"
      ]
     },
     "execution_count": 22,
     "metadata": {},
     "output_type": "execute_result"
    }
   ],
   "source": [
    "px.count(),px.min(),px.max()"
   ]
  },
  {
   "cell_type": "code",
   "execution_count": 2,
   "metadata": {},
   "outputs": [
    {
     "name": "stdout",
     "output_type": "stream",
     "text": [
      "Solving environment: ...working... done\n",
      "\n",
      "## Package Plan ##\n",
      "\n",
      "  environment location: C:\\Users\\wine_CH\\Anaconda3\n",
      "\n",
      "  added / updated specs: \n",
      "    - seaborn\n",
      "\n",
      "\n",
      "The following packages will be downloaded:\n",
      "\n",
      "    package                    |            build\n",
      "    ---------------------------|-----------------\n",
      "    matplotlib-3.0.0           |   py37hd159220_0         6.7 MB\n",
      "    patsy-0.5.1                |           py37_0         375 KB\n",
      "    numpy-1.15.4               |   py37ha559c80_0          36 KB\n",
      "    numpy-base-1.15.4          |   py37h8128ebf_0         3.9 MB\n",
      "    mkl-2018.0.3               |                1       178.1 MB\n",
      "    mkl_fft-1.0.6              |   py37hdbbee80_0         120 KB\n",
      "    ------------------------------------------------------------\n",
      "                                           Total:       189.2 MB\n",
      "\n",
      "The following packages will be UPDATED:\n",
      "\n",
      "    matplotlib: 2.2.3-py37hd159220_0  --> 3.0.0-py37hd159220_0 \n",
      "    mkl_fft:    1.0.4-py37h1e22a9b_1  --> 1.0.6-py37hdbbee80_0 \n",
      "    numpy:      1.15.1-py37ha559c80_0 --> 1.15.4-py37ha559c80_0\n",
      "    numpy-base: 1.15.1-py37h8128ebf_0 --> 1.15.4-py37h8128ebf_0\n",
      "    patsy:      0.5.0-py37_0          --> 0.5.1-py37_0         \n",
      "\n",
      "The following packages will be DOWNGRADED:\n",
      "\n",
      "    mkl:        2019.0-118            --> 2018.0.3-1           \n",
      "\n",
      "Preparing transaction: ...working... done\n",
      "Verifying transaction: ...working... done\n",
      "Executing transaction: ...working... done\n"
     ]
    }
   ],
   "source": [
    "!conda install seaborn -q -y"
   ]
  },
  {
   "cell_type": "code",
   "execution_count": 23,
   "metadata": {},
   "outputs": [
    {
     "data": {
      "text/plain": [
       "<matplotlib.axes._subplots.AxesSubplot at 0x23eaba96fd0>"
      ]
     },
     "execution_count": 23,
     "metadata": {},
     "output_type": "execute_result"
    },
    {
     "data": {
      "image/png": "[encoded data removed]",
      "text/plain": [
       "<Figure size 432x288 with 1 Axes>"
      ]
     },
     "metadata": {
      "needs_background": "light"
     },
     "output_type": "display_data"
    }
   ],
   "source": [
    "import seaborn as sns\n",
    "data.trip_distance.hist(bins=np.linspace(0.,10.,100)) # hist는 Series 객체에 있는 값으로 히스토그램을 그린다 \n",
    "#linspace 함수로 0부터 10까지에서 같은 크기로 100개를 생성"
   ]
  },
  {
   "cell_type": "code",
   "execution_count": null,
   "metadata": {},
   "outputs": [],
   "source": []
  }
 ],
 "metadata": {
  "kernelspec": {
   "display_name": "Python 3",
   "language": "python",
   "name": "python3"
  },
  "language_info": {
   "codemirror_mode": {
    "name": "ipython",
    "version": 3
   },
   "file_extension": ".py",
   "mimetype": "text/x-python",
   "name": "python",
   "nbconvert_exporter": "python",
   "pygments_lexer": "ipython3",
   "version": "3.7.0"
  }
 },
 "nbformat": 4,
 "nbformat_minor": 2
}
